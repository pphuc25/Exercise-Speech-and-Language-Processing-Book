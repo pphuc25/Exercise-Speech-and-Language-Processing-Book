{
 "cells": [
  {
   "cell_type": "markdown",
   "metadata": {},
   "source": [
    "## 2.2 Write regular expressions for the following languages. By “word”, we mean an alphabetic string separated from other words by whitespace, any relevant punctuation, line breaks, and so forth."
   ]
  },
  {
   "cell_type": "code",
   "execution_count": 1,
   "metadata": {},
   "outputs": [],
   "source": [
    "import re"
   ]
  },
  {
   "cell_type": "code",
   "execution_count": 27,
   "metadata": {},
   "outputs": [],
   "source": [
    "sample_sentence = \"\"\"\n",
    "The side bar includes a Cheatsheet, full Reference, and Help. You can also Save & Share with the Community and view patterns you create or favorite in My Patterns.\n",
    "\n",
    "Explore results with the Tools below. Replace & List output custom results. Details lists capture groups. Explain describes your expression in plain English.\n",
    "\n",
    "Humbert Humbert the the the bug the big bug\n",
    "\n",
    "11 I don't know what's going on\n",
    "\n",
    "testinga testingb\n",
    "\n",
    "grottos is the word I want to plot, in the sentence there raven as well\n",
    "\n",
    "bab aab baa bbb aba bbbabbb\n",
    "\n",
    "Hi, this is Phuc\n",
    "\"\"\""
   ]
  },
  {
   "cell_type": "markdown",
   "metadata": {},
   "source": [
    "### 1. the set of all strings with two consecutive repeated words (e.g., “Humbert Humbert” and “the the” but not “the bug” or “the big bug”);\n"
   ]
  },
  {
   "cell_type": "code",
   "execution_count": 15,
   "metadata": {},
   "outputs": [
    {
     "name": "stdout",
     "output_type": "stream",
     "text": [
      "{'Humbert', 'the'}\n"
     ]
    }
   ],
   "source": [
    "def two_repeated_words(texts) -> set:\n",
    "    two_repeated_pattern = r'\\b(\\w+)\\b\\s+\\1'\n",
    "    two_repeated_match = re.findall(two_repeated_pattern, texts, re.MULTILINE)\n",
    "    return set(two_repeated_match)\n",
    "\n",
    "print(two_repeated_words(sample_sentence))"
   ]
  },
  {
   "cell_type": "markdown",
   "metadata": {},
   "source": [
    "### 2. all strings that start at the beginning of the line with an integer and that end at the end of the line with a word;"
   ]
  },
  {
   "cell_type": "code",
   "execution_count": 25,
   "metadata": {},
   "outputs": [
    {
     "name": "stdout",
     "output_type": "stream",
     "text": [
      "{\"11 I don't know what's going on\"}\n"
     ]
    }
   ],
   "source": [
    "def being_int_and_word(texts) -> set:\n",
    "    being_int_and_word_pattern = r'^\\d+.*\\w+$'\n",
    "    being_int_and_word_match = re.findall(being_int_and_word_pattern, texts, re.MULTILINE)\n",
    "    return set(being_int_and_word_match)\n",
    "\n",
    "print(being_int_and_word(sample_sentence))"
   ]
  },
  {
   "cell_type": "markdown",
   "metadata": {},
   "source": [
    "### 3. all strings that have both the word grotto and the word raven in them (but not, e.g., words like grottos that merely contain the word grotto);"
   ]
  },
  {
   "cell_type": "code",
   "execution_count": 40,
   "metadata": {},
   "outputs": [
    {
     "name": "stdout",
     "output_type": "stream",
     "text": [
      "{'grottos is the word I want to plot, in the sentence there raven as well'}\n"
     ]
    }
   ],
   "source": [
    "def both_grotto_raven(texts) -> set:\n",
    "    both_grotto_raven_pattern = r'^(?=.*\\bgrottos?\\b)(?=.*\\braven\\b).*$'\n",
    "    both_grotto_raven_match = re.findall(both_grotto_raven_pattern, texts, re.MULTILINE)\n",
    "    return set(both_grotto_raven_match)\n",
    "\n",
    "print(both_grotto_raven(sample_sentence))"
   ]
  },
  {
   "cell_type": "markdown",
   "metadata": {},
   "source": [
    "### 4. write a pattern that places the first word of an English sentence in a register. Deal with punctuation.\n"
   ]
  },
  {
   "cell_type": "code",
   "execution_count": 42,
   "metadata": {},
   "outputs": [
    {
     "name": "stdout",
     "output_type": "stream",
     "text": [
      "{'Help.', 'Patterns.', 'Hi,', 'English.', 'Cheatsheet,', 'Reference,'}\n"
     ]
    }
   ],
   "source": [
    "def englisth_register(texts) -> set:\n",
    "    englisth_register_pattern = r'[A-Z]\\w+[.,!]'\n",
    "    englisth_register_match = re.findall(englisth_register_pattern, texts, re.MULTILINE)\n",
    "    return set(englisth_register_match)\n",
    "\n",
    "print(englisth_register(sample_sentence))"
   ]
  }
 ],
 "metadata": {
  "kernelspec": {
   "display_name": "AI",
   "language": "python",
   "name": "python3"
  },
  "language_info": {
   "codemirror_mode": {
    "name": "ipython",
    "version": 3
   },
   "file_extension": ".py",
   "mimetype": "text/x-python",
   "name": "python",
   "nbconvert_exporter": "python",
   "pygments_lexer": "ipython3",
   "version": "3.9.16"
  },
  "orig_nbformat": 4
 },
 "nbformat": 4,
 "nbformat_minor": 2
}
