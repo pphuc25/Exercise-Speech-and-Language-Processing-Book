{
 "cells": [
  {
   "cell_type": "markdown",
   "metadata": {},
   "source": [
    "## 2.1 Write regular expressions for the following languages.\n"
   ]
  },
  {
   "cell_type": "code",
   "execution_count": 2,
   "metadata": {},
   "outputs": [],
   "source": [
    "import re"
   ]
  },
  {
   "cell_type": "code",
   "execution_count": 39,
   "metadata": {},
   "outputs": [],
   "source": [
    "sample_sentence = \"\"\"\n",
    "The side bar includes a Cheatsheet, full Reference, and Help. You can also Save & Share with the Community and view patterns you create or favorite in My Patterns.\n",
    "\n",
    "Explore results with the Tools below. Replace & List output custom results. Details lists capture groups. Explain describes your expression in plain English.\n",
    "\n",
    "Hum-bert Humbert the the the bug the big bug\n",
    "\n",
    "1 I don't know what's going on\n",
    "\n",
    "testinga testingb\n",
    "\n",
    "bab aab baa bbb aba bbbabbb\n",
    "\n",
    "Hi, this is Phuc\n",
    "\"\"\""
   ]
  },
  {
   "cell_type": "markdown",
   "metadata": {},
   "source": [
    "### 1. the set of all alphabetic strings\n"
   ]
  },
  {
   "cell_type": "code",
   "execution_count": 19,
   "metadata": {},
   "outputs": [
    {
     "name": "stdout",
     "output_type": "stream",
     "text": [
      "{'output', 'You', 'in', 'this', 'My', 't', 'results', 'Details', 'bert', 'favorite', 'view', 'full', 'the', 'big', 'describes', 'create', 'bug', 'Save', 'Share', 'and', 'Help', 'is', 'on', 'can', 'Community', 'Hum', 'bar', 'includes', 'Phuc', 'patterns', 'Explain', 'Explore', 'groups', 'side', 'below', 'know', 'Hi', 'Tools', 'going', 'Patterns', 's', 'Replace', 'or', 'your', 'expression', 'custom', '1', 'The', 'Reference', 'don', 'what', 'Humbert', 'Cheatsheet', 'with', 'capture', 'you', 'I', 'lists', 'plain', 'English', 'a', 'also', 'List'}\n"
     ]
    }
   ],
   "source": [
    "def alphabetic_string(texts: str)-> set:\n",
    "    alphabetic_pattern = r'\\w+'\n",
    "    aphebetic_str_match = re.findall(alphabetic_pattern, texts, re.MULTILINE)\n",
    "    return set(aphebetic_str_match)\n",
    "\n",
    "print(alphabetic_string(sample_sentence))"
   ]
  },
  {
   "cell_type": "markdown",
   "metadata": {},
   "source": [
    "### 2. the set of all lower case alphabetic strings ending in a *b*"
   ]
  },
  {
   "cell_type": "code",
   "execution_count": 25,
   "metadata": {},
   "outputs": [
    {
     "name": "stdout",
     "output_type": "stream",
     "text": [
      "{'testingb'}\n"
     ]
    }
   ],
   "source": [
    "def alphabetic_ending_a_or_b(texts):\n",
    "    alphabetic_ending_a_or_b_pattern = r'\\b[a-z]+b\\b'\n",
    "    alphabetic_ending_a_or_b_match = re.findall(alphabetic_ending_a_or_b_pattern, texts, re.MULTILINE)\n",
    "    return set(alphabetic_ending_a_or_b_match)\n",
    "\n",
    "print(alphabetic_ending_a_or_b(sample_sentence))"
   ]
  },
  {
   "cell_type": "markdown",
   "metadata": {},
   "source": [
    "### 3. The set of all strings from the alphabet *a,b* such that each *a* is immediately preceded by and immediately followed by a *b*;\n"
   ]
  },
  {
   "cell_type": "code",
   "execution_count": 40,
   "metadata": {},
   "outputs": [
    {
     "name": "stdout",
     "output_type": "stream",
     "text": [
      "{'bbbabbb', 'bab'}\n"
     ]
    }
   ],
   "source": [
    "def alphabetic_immediate_b(texts):\n",
    "    alphabetic_immediate_b_pattern = r'b+ab+'\n",
    "    alphabetic_immediate_b_pattern_match = re.findall(alphabetic_immediate_b_pattern, texts)\n",
    "    return set(alphabetic_immediate_b_pattern_match)\n",
    "\n",
    "print(alphabetic_immediate_b(sample_sentence))"
   ]
  }
 ],
 "metadata": {
  "kernelspec": {
   "display_name": "AI",
   "language": "python",
   "name": "python3"
  },
  "language_info": {
   "codemirror_mode": {
    "name": "ipython",
    "version": 3
   },
   "file_extension": ".py",
   "mimetype": "text/x-python",
   "name": "python",
   "nbconvert_exporter": "python",
   "pygments_lexer": "ipython3",
   "version": "3.9.16"
  },
  "orig_nbformat": 4
 },
 "nbformat": 4,
 "nbformat_minor": 2
}
